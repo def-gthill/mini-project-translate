{
 "cells": [
  {
   "cell_type": "markdown",
   "metadata": {},
   "source": [
    "## Language Translator"
   ]
  },
  {
   "cell_type": "code",
   "execution_count": 1,
   "metadata": {},
   "outputs": [
    {
     "name": "stderr",
     "output_type": "stream",
     "text": [
      "/opt/conda/lib/python3.8/site-packages/gensim/similarities/__init__.py:15: UserWarning: The gensim.similarities.levenshtein submodule is disabled, because the optional Levenshtein package <https://pypi.org/project/python-Levenshtein/> is unavailable. Install Levenhstein (e.g. `pip install python-Levenshtein`) to suppress this warning.\n",
      "  warnings.warn(msg)\n"
     ]
    }
   ],
   "source": [
    "import numpy as np\n",
    "import pandas as pd\n",
    "\n",
    "from sklearn import preprocessing as pre, pipeline as pl\n",
    "from sklearn import model_selection as ms, metrics\n",
    "\n",
    "import nltk\n",
    "from nltk.corpus import comtrans\n",
    "\n",
    "import gensim\n",
    "\n",
    "from tensorflow import keras\n",
    "from tensorflow.keras import models, layers\n",
    "\n",
    "from bobs import learn, plots\n",
    "import transformers"
   ]
  },
  {
   "cell_type": "markdown",
   "metadata": {},
   "source": [
    "From `nltk` we can download translated sentences between different languages. You can see the example between **English and French** below but feel free to try different combination as well."
   ]
  },
  {
   "cell_type": "code",
   "execution_count": 2,
   "metadata": {},
   "outputs": [
    {
     "name": "stderr",
     "output_type": "stream",
     "text": [
      "[nltk_data] Downloading package comtrans to /home/jovyan/nltk_data...\n",
      "[nltk_data]   Package comtrans is already up-to-date!\n"
     ]
    },
    {
     "data": {
      "text/plain": [
       "True"
      ]
     },
     "execution_count": 2,
     "metadata": {},
     "output_type": "execute_result"
    }
   ],
   "source": [
    "nltk.download('comtrans')"
   ]
  },
  {
   "cell_type": "code",
   "execution_count": 3,
   "metadata": {},
   "outputs": [],
   "source": [
    "en_fr = comtrans.aligned_sents('alignment-en-fr.txt')"
   ]
  },
  {
   "cell_type": "markdown",
   "metadata": {},
   "source": [
    "### Exploration"
   ]
  },
  {
   "cell_type": "code",
   "execution_count": 4,
   "metadata": {},
   "outputs": [
    {
     "data": {
      "text/plain": [
       "[('a', 'de'),\n",
       " ('period', 'vacances'),\n",
       " ('once', 'renouvelle'),\n",
       " ('1999', 'dernier'),\n",
       " ('.', '.'),\n",
       " ('festive', 'tous'),\n",
       " ('adjourned', 'qui'),\n",
       " ('Parliament', 'Parlement'),\n",
       " ('resumed', 'reprise'),\n",
       " ('you', 'vous'),\n",
       " ('adjourned', 'interrompue'),\n",
       " ('I', 'je'),\n",
       " ('on', 'le'),\n",
       " ('pleasant', 'bonnes'),\n",
       " ('European', 'européen'),\n",
       " ('the', 'du'),\n",
       " ('would', 'vous'),\n",
       " ('the', 'la'),\n",
       " ('hope', 'espérant'),\n",
       " ('festive', 'vux'),\n",
       " ('adjourned', 'été'),\n",
       " ('festive', 'renouvelle'),\n",
       " ('Friday', 'vendredi'),\n",
       " ('like', 'renouvelle'),\n",
       " ('festive', 'vacances'),\n",
       " ('you', 'avez'),\n",
       " ('that', 'que'),\n",
       " ('17', '17'),\n",
       " ('in', 'en'),\n",
       " ('session', 'session'),\n",
       " ('again', 'renouvelle'),\n",
       " ('of', 'du'),\n",
       " ('pleasant', 'renouvelle'),\n",
       " ('I', 'Je'),\n",
       " ('adjourned', 'avait'),\n",
       " ('declare', 'déclare'),\n",
       " ('festive', 'mes'),\n",
       " ('enjoyed', 'passé'),\n",
       " ('December', 'décembre'),\n",
       " ('and', 'et')]"
      ]
     },
     "execution_count": 4,
     "metadata": {},
     "output_type": "execute_result"
    }
   ],
   "source": [
    "[(en_fr[1].words[en], en_fr[1].mots[fr]) for en, fr in en_fr[1].alignment]"
   ]
  },
  {
   "cell_type": "code",
   "execution_count": 5,
   "metadata": {},
   "outputs": [
    {
     "data": {
      "text/plain": [
       "'I declare resumed the session of the European Parliament adjourned on Friday 17 December 1999 , and I would like once again to wish you a happy new year in the hope that you enjoyed a pleasant festive period .'"
      ]
     },
     "execution_count": 5,
     "metadata": {},
     "output_type": "execute_result"
    }
   ],
   "source": [
    "\" \".join(en_fr[1].words)"
   ]
  },
  {
   "cell_type": "code",
   "execution_count": 6,
   "metadata": {},
   "outputs": [
    {
     "data": {
      "text/plain": [
       "'Je déclare reprise la session du Parlement européen qui avait été interrompue le vendredi 17 décembre dernier et je vous renouvelle tous mes vux en espérant que vous avez passé de bonnes vacances .'"
      ]
     },
     "execution_count": 6,
     "metadata": {},
     "output_type": "execute_result"
    }
   ],
   "source": [
    "\" \".join(en_fr[1].mots)"
   ]
  },
  {
   "cell_type": "code",
   "execution_count": 7,
   "metadata": {},
   "outputs": [
    {
     "data": {
      "text/plain": [
       "33334"
      ]
     },
     "execution_count": 7,
     "metadata": {},
     "output_type": "execute_result"
    }
   ],
   "source": [
    "len(en_fr)"
   ]
  },
  {
   "cell_type": "markdown",
   "metadata": {},
   "source": [
    "### Train-test"
   ]
  },
  {
   "cell_type": "code",
   "execution_count": 8,
   "metadata": {},
   "outputs": [],
   "source": [
    "en_fr_train, en_fr_test = ms.train_test_split(en_fr, random_state=42)"
   ]
  },
  {
   "cell_type": "code",
   "execution_count": 9,
   "metadata": {},
   "outputs": [
    {
     "data": {
      "text/plain": [
       "25000"
      ]
     },
     "execution_count": 9,
     "metadata": {},
     "output_type": "execute_result"
    }
   ],
   "source": [
    "len(en_fr_train)"
   ]
  },
  {
   "cell_type": "markdown",
   "metadata": {},
   "source": [
    "### Word embedding"
   ]
  },
  {
   "cell_type": "code",
   "execution_count": 10,
   "metadata": {},
   "outputs": [],
   "source": [
    "def en_words(sents):\n",
    "    return [sent.words for sent in sents]\n",
    "\n",
    "def fr_words(sents):\n",
    "    return [sent.mots for sent in sents]"
   ]
  },
  {
   "cell_type": "code",
   "execution_count": 11,
   "metadata": {},
   "outputs": [],
   "source": [
    "def make_wv_en():\n",
    "    wv_en = gensim.models.Word2Vec(\n",
    "        sentences=en_words(en_fr_train),\n",
    "        workers=8,\n",
    "    )\n",
    "    return wv_en.wv"
   ]
  },
  {
   "cell_type": "code",
   "execution_count": 12,
   "metadata": {},
   "outputs": [],
   "source": [
    "def make_wv_fr():\n",
    "    wv_fr = gensim.models.Word2Vec(\n",
    "        sentences=fr_words(en_fr_train),\n",
    "        workers=8,\n",
    "    )\n",
    "    return wv_fr.wv"
   ]
  },
  {
   "cell_type": "code",
   "execution_count": 13,
   "metadata": {},
   "outputs": [],
   "source": [
    "wv_en = learn.load_or_train(\n",
    "    'wv_en.model', make_wv_en, method='keyedvectors'\n",
    ")"
   ]
  },
  {
   "cell_type": "code",
   "execution_count": 14,
   "metadata": {},
   "outputs": [],
   "source": [
    "wv_fr = learn.load_or_train(\n",
    "    'wv_fr.model', make_wv_fr, method='keyedvectors'\n",
    ")"
   ]
  },
  {
   "cell_type": "code",
   "execution_count": 15,
   "metadata": {},
   "outputs": [],
   "source": [
    "en_train = en_words(en_fr_train)\n",
    "fr_train = fr_words(en_fr_train)\n",
    "en_test = en_words(en_fr_test)\n",
    "fr_test = fr_words(en_fr_test)"
   ]
  },
  {
   "cell_type": "markdown",
   "metadata": {},
   "source": [
    "### Preprocessing"
   ]
  },
  {
   "cell_type": "code",
   "execution_count": 16,
   "metadata": {},
   "outputs": [],
   "source": [
    "en_lens = pd.DataFrame({'length': [len(sent) for sent in en_train]})\n",
    "fr_lens = pd.DataFrame({'length': [len(sent) for sent in fr_train]})"
   ]
  },
  {
   "cell_type": "code",
   "execution_count": 17,
   "metadata": {},
   "outputs": [
    {
     "data": {
      "image/png": "[encoded data removed]",
      "text/plain": [
       "<Figure size 432x288 with 1 Axes>"
      ]
     },
     "metadata": {
      "needs_background": "light"
     },
     "output_type": "display_data"
    }
   ],
   "source": [
    "plots.distplot(en_lens, 'length')"
   ]
  },
  {
   "cell_type": "code",
   "execution_count": 18,
   "metadata": {},
   "outputs": [
    {
     "data": {
      "image/png": "[encoded data removed]",
      "text/plain": [
       "<Figure size 432x288 with 1 Axes>"
      ]
     },
     "metadata": {
      "needs_background": "light"
     },
     "output_type": "display_data"
    }
   ],
   "source": [
    "plots.distplot(fr_lens, 'length')"
   ]
  },
  {
   "cell_type": "code",
   "execution_count": 19,
   "metadata": {},
   "outputs": [],
   "source": [
    "tr_en_vectors = transformers.Word2VecTransformer(wv_en)\n",
    "tr_fr_vectors = transformers.Word2VecTransformer(wv_fr)"
   ]
  },
  {
   "cell_type": "code",
   "execution_count": 20,
   "metadata": {},
   "outputs": [],
   "source": [
    "padder = pre.FunctionTransformer(transformers.pad)"
   ]
  },
  {
   "cell_type": "code",
   "execution_count": 21,
   "metadata": {},
   "outputs": [],
   "source": [
    "en_pipeline = pl.Pipeline([\n",
    "    ('en_vectors', tr_en_vectors),\n",
    "    ('padder', padder),\n",
    "])"
   ]
  },
  {
   "cell_type": "code",
   "execution_count": 22,
   "metadata": {},
   "outputs": [],
   "source": [
    "fr_pipeline = pl.Pipeline([\n",
    "    ('fr_vectors', tr_fr_vectors),\n",
    "    ('padder', padder),\n",
    "])"
   ]
  },
  {
   "cell_type": "code",
   "execution_count": 23,
   "metadata": {},
   "outputs": [],
   "source": [
    "#test_pipeline.transform(en_train[:5]).shape"
   ]
  },
  {
   "cell_type": "code",
   "execution_count": 24,
   "metadata": {},
   "outputs": [],
   "source": [
    "en_train_vecs = en_pipeline.fit_transform(en_train)\n",
    "fr_train_vecs = en_pipeline.fit_transform(fr_train)"
   ]
  },
  {
   "cell_type": "code",
   "execution_count": 25,
   "metadata": {},
   "outputs": [
    {
     "data": {
      "text/plain": [
       "0.14929688630021"
      ]
     },
     "execution_count": 25,
     "metadata": {},
     "output_type": "execute_result"
    }
   ],
   "source": [
    "en_f = np.sqrt((en_train_vecs ** 2).sum(axis=2)).flatten()\n",
    "en_f[np.nonzero(en_f)].min()"
   ]
  },
  {
   "cell_type": "code",
   "execution_count": 26,
   "metadata": {},
   "outputs": [
    {
     "data": {
      "text/plain": [
       "0.1557485773604513"
      ]
     },
     "execution_count": 26,
     "metadata": {},
     "output_type": "execute_result"
    }
   ],
   "source": [
    "fr_f = np.sqrt((fr_train_vecs ** 2).sum(axis=2)).flatten()\n",
    "fr_f[np.nonzero(fr_f)].min()"
   ]
  },
  {
   "cell_type": "markdown",
   "metadata": {},
   "source": [
    "### LSTM"
   ]
  },
  {
   "cell_type": "code",
   "execution_count": 27,
   "metadata": {},
   "outputs": [],
   "source": [
    "def make_simple_lstm_fr_to_en():\n",
    "    model = models.Sequential(name='simple_lstm_fr_to_en')\n",
    "    model.add(layers.Input(fr_train_vecs.shape[1:], name='input'))\n",
    "    model.add(layers.LSTM(units=50, return_sequences=True, name='lstm1'))\n",
    "    model.add(layers.Dropout(0.2, name='dropout1'))\n",
    "    model.add(layers.LSTM(units=50, return_sequences=True, name='lstm2'))\n",
    "    model.add(layers.Dropout(0.2, name='dropout2'))\n",
    "    model.add(layers.Dense(100, activation='relu', name='dense1'))\n",
    "    model.add(layers.Dense(100, activation='relu', name='dense2'))\n",
    "    model.add(layers.Dense(100, activation='relu', name='dense3'))\n",
    "    model.add(layers.Dense(100, activation='tanh', name='output'))\n",
    "    model.compile(optimizer='adam', loss='mse', metrics=['acc'])\n",
    "    return model"
   ]
  },
  {
   "cell_type": "code",
   "execution_count": 28,
   "metadata": {},
   "outputs": [
    {
     "name": "stdout",
     "output_type": "stream",
     "text": [
      "Model: \"simple_lstm_fr_to_en\"\n",
      "_________________________________________________________________\n",
      "Layer (type)                 Output Shape              Param #   \n",
      "=================================================================\n",
      "lstm1 (LSTM)                 (None, 40, 50)            30200     \n",
      "_________________________________________________________________\n",
      "dropout1 (Dropout)           (None, 40, 50)            0         \n",
      "_________________________________________________________________\n",
      "lstm2 (LSTM)                 (None, 40, 50)            20200     \n",
      "_________________________________________________________________\n",
      "dropout2 (Dropout)           (None, 40, 50)            0         \n",
      "_________________________________________________________________\n",
      "dense1 (Dense)               (None, 40, 100)           5100      \n",
      "_________________________________________________________________\n",
      "dense2 (Dense)               (None, 40, 100)           10100     \n",
      "_________________________________________________________________\n",
      "dense3 (Dense)               (None, 40, 100)           10100     \n",
      "_________________________________________________________________\n",
      "output (Dense)               (None, 40, 100)           10100     \n",
      "=================================================================\n",
      "Total params: 85,800\n",
      "Trainable params: 85,800\n",
      "Non-trainable params: 0\n",
      "_________________________________________________________________\n"
     ]
    }
   ],
   "source": [
    "make_simple_lstm_fr_to_en().summary()"
   ]
  },
  {
   "cell_type": "code",
   "execution_count": 29,
   "metadata": {},
   "outputs": [],
   "source": [
    "def train_simple_lstm_fr_to_en():\n",
    "    model = make_simple_lstm_fr_to_en()\n",
    "    model.fit(fr_train_vecs, en_train_vecs, epochs=20, batch_size=512)\n",
    "    return model"
   ]
  },
  {
   "cell_type": "code",
   "execution_count": 30,
   "metadata": {},
   "outputs": [],
   "source": [
    "simple_lstm_fr_to_en = learn.load_or_train(\n",
    "    'simple_lstm_fr_to_en',\n",
    "    train_simple_lstm_fr_to_en,\n",
    "    method='tensorflow',\n",
    ")"
   ]
  },
  {
   "cell_type": "code",
   "execution_count": 31,
   "metadata": {},
   "outputs": [],
   "source": [
    "def translate_fr_en(model, sentence):\n",
    "    return \" \".join(\n",
    "        tr_en_vectors.inverse_transform(\n",
    "            model.predict(\n",
    "                fr_pipeline.transform([sentence.split()])\n",
    "            )\n",
    "        )[0]\n",
    "    )"
   ]
  },
  {
   "cell_type": "code",
   "execution_count": 33,
   "metadata": {},
   "outputs": [
    {
     "data": {
      "text/plain": [
       "'The approved Budget Time approved Budget paragraph PT PT preference preference resume A A An An An'"
      ]
     },
     "execution_count": 33,
     "metadata": {},
     "output_type": "execute_result"
    }
   ],
   "source": [
    "translate_fr_en(simple_lstm_fr_to_en, 'Je déclare reprise la session.')"
   ]
  },
  {
   "cell_type": "code",
   "execution_count": null,
   "metadata": {},
   "outputs": [],
   "source": []
  }
 ],
 "metadata": {
  "kernelspec": {
   "display_name": "Python 3",
   "language": "python",
   "name": "python3"
  },
  "language_info": {
   "codemirror_mode": {
    "name": "ipython",
    "version": 3
   },
   "file_extension": ".py",
   "mimetype": "text/x-python",
   "name": "python",
   "nbconvert_exporter": "python",
   "pygments_lexer": "ipython3",
   "version": "3.8.8"
  }
 },
 "nbformat": 4,
 "nbformat_minor": 4
}
